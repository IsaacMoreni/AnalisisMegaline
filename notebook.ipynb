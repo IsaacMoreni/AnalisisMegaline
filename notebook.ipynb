{
 "cells": [
  {
   "cell_type": "markdown",
   "metadata": {
    "id": "3rYiDeEH0q0f"
   },
   "source": [
    "# ¿Cuál es la mejor tarifa?\n",
    "\n",
    "Trabajas como analista para el operador de telecomunicaciones Megaline. La empresa ofrece a sus clientes dos tarifas de prepago, Surf y Ultimate. El departamento comercial quiere saber cuál de las tarifas genera más ingresos para poder ajustar el presupuesto de publicidad.\n",
    "\n",
    "Vas a realizar un análisis preliminar de las tarifas basado en una selección de clientes relativamente pequeña. Tendrás los datos de 500 clientes de Megaline: quiénes son los clientes, de dónde son, qué tarifa usan, así como la cantidad de llamadas que hicieron y los mensajes de texto que enviaron en 2018. Tu trabajo es analizar el comportamiento de los clientes y determinar qué tarifa de prepago genera más ingresos."
   ]
  },
  {
   "cell_type": "markdown",
   "metadata": {
    "id": "MQi4IPy70q0y"
   },
   "source": [
    "## 1. Inicialización"
   ]
  },
  {
   "cell_type": "code",
   "execution_count": 347,
   "metadata": {
    "id": "MtYIuBxu0q0z"
   },
   "outputs": [],
   "source": [
    "# Se cargan todas la librerias y funciones a utilizar en el proyecto\n",
    "\n",
    "from scipy import stats as st\n",
    "import math\n",
    "import seaborn as sns\n",
    "import numpy as np\n",
    "import pandas as pd\n",
    "from matplotlib import pyplot as plt"
   ]
  },
  {
   "cell_type": "markdown",
   "metadata": {
    "id": "4ysWWC5i0q00"
   },
   "source": [
    "## 2. Cargar datos"
   ]
  },
  {
   "cell_type": "code",
   "execution_count": 348,
   "metadata": {
    "id": "CCqPW7rS0q01"
   },
   "outputs": [],
   "source": [
    "# Se cargan los archivos con los datos de la muestra de la poblacion de los planes para poder realizar las pruebas de hipostesis sobre ellos.\n",
    "calls_df = pd.read_csv(\"datasets/megaline_calls.csv\")\n",
    "internet_df = pd.read_csv(\"datasets/megaline_internet.csv\")\n",
    "messages_df = pd.read_csv(\"datasets/megaline_messages.csv\")\n",
    "plans_df = pd.read_csv(\"datasets/megaline_plans.csv\")\n",
    "users_df = pd.read_csv(\"datasets/megaline_users.csv\")"
   ]
  },
  {
   "cell_type": "markdown",
   "metadata": {
    "id": "69qqoJ3r0q01"
   },
   "source": [
    "## 3. Preparar los datos"
   ]
  },
  {
   "cell_type": "markdown",
   "metadata": {
    "id": "vUuZw80S0q01"
   },
   "source": [
    "A continuación se estudiaran los datos proporcionados por la compañia de telecomunicaciones acerca de la muestra de la poblacion para de esta forma poder probar la hipotesis en la cual estableceremos que ambos planes tienen la misma media de ingresos para la compañia.\n",
    "\n",
    "[Los datos para este proyecto se dividen en varias tablas. Explora cada una para tener una comprensión inicial de los datos. Si es necesario, haz las correcciones requeridas en cada tabla.]"
   ]
  },
  {
   "cell_type": "markdown",
   "metadata": {
    "id": "ohBhimvH0q01"
   },
   "source": [
    "## 4. Tarifas"
   ]
  },
  {
   "cell_type": "code",
   "execution_count": 349,
   "metadata": {
    "id": "GptqP3Q40q02"
   },
   "outputs": [
    {
     "name": "stdout",
     "output_type": "stream",
     "text": [
      "<class 'pandas.core.frame.DataFrame'>\n",
      "RangeIndex: 2 entries, 0 to 1\n",
      "Data columns (total 8 columns):\n",
      " #   Column                 Non-Null Count  Dtype  \n",
      "---  ------                 --------------  -----  \n",
      " 0   messages_included      2 non-null      int64  \n",
      " 1   mb_per_month_included  2 non-null      int64  \n",
      " 2   minutes_included       2 non-null      int64  \n",
      " 3   usd_monthly_pay        2 non-null      int64  \n",
      " 4   usd_per_gb             2 non-null      int64  \n",
      " 5   usd_per_message        2 non-null      float64\n",
      " 6   usd_per_minute         2 non-null      float64\n",
      " 7   plan_name              2 non-null      object \n",
      "dtypes: float64(2), int64(5), object(1)\n",
      "memory usage: 260.0+ bytes\n"
     ]
    }
   ],
   "source": [
    "# Imprime la información general/resumida sobre el DataFrame de las tarifas\n",
    "plans_df.info()"
   ]
  },
  {
   "cell_type": "code",
   "execution_count": 350,
   "metadata": {
    "id": "64xzjwL70q02"
   },
   "outputs": [
    {
     "name": "stdout",
     "output_type": "stream",
     "text": [
      "   messages_included  mb_per_month_included  minutes_included  \\\n",
      "0                 50                  15360               500   \n",
      "1               1000                  30720              3000   \n",
      "\n",
      "   usd_monthly_pay  usd_per_gb  usd_per_message  usd_per_minute plan_name  \n",
      "0               20          10             0.03            0.03      surf  \n",
      "1               70           7             0.01            0.01  ultimate  \n"
     ]
    }
   ],
   "source": [
    "# Imprime una muestra de los datos para las tarifas\n",
    "print(plans_df)\n"
   ]
  },
  {
   "cell_type": "markdown",
   "metadata": {
    "id": "mEc_3_hs0q02"
   },
   "source": [
    "Esta tabla contiene la informacion de los planes surf y ultimate ofrecidos por la compañia megaline, por lo que son solo dos filas. Con esta tabla se puede verificar los cobros mensuales que se realizaran por cada usuarios por el uso de internet, numero de mensajes enviados y tiempo en llamadas que se pasen de lo ya establcido en los respectivos planes contratados.\n",
    "\n",
    "En la tabla no hay datos ausentes y los tipos de datos estan bien representados en cada columna, por lo que en esta tabla no se debe de modificar mas de lo que se encuentra en defecto.\n",
    "\n",
    "Las columnas se pueden describir de la siguiente manera:\n",
    "\n",
    "- `messages_included`: Numero de mensajes de texto incluidos sin costo extra en el plan.\n",
    "- `mb_per_month_included`: Numero de megas para navegar en internet de incluidos sin costo extra en el plan.\n",
    "- `minutes_included`: Numero de minutos en llamada incluidos sin costo extra en el plan.\n",
    "- `usd_monthly_pay`: Costo en dolares mensuales por el plan.\n",
    "- `usd_per_gb`: Costo de cada GB extra usado en el mes para navegar en internet.\n",
    "- `usd_per_message`: Costo por cada mensaje extra mandado por el usuario en el mes.\n",
    "- `usd_per_minute`: Costo por cada minuto extra que se encuentre en llamada el cliente en el mes.\n",
    "- `plan_name`: Nombre del plan."
   ]
  },
  {
   "cell_type": "markdown",
   "metadata": {
    "id": "1n2X6WXf0q04"
   },
   "source": [
    "## 5. Usuarios/as"
   ]
  },
  {
   "cell_type": "code",
   "execution_count": 351,
   "metadata": {
    "id": "2NgjWFqx0q05"
   },
   "outputs": [
    {
     "name": "stdout",
     "output_type": "stream",
     "text": [
      "<class 'pandas.core.frame.DataFrame'>\n",
      "RangeIndex: 500 entries, 0 to 499\n",
      "Data columns (total 8 columns):\n",
      " #   Column      Non-Null Count  Dtype \n",
      "---  ------      --------------  ----- \n",
      " 0   user_id     500 non-null    int64 \n",
      " 1   first_name  500 non-null    object\n",
      " 2   last_name   500 non-null    object\n",
      " 3   age         500 non-null    int64 \n",
      " 4   city        500 non-null    object\n",
      " 5   reg_date    500 non-null    object\n",
      " 6   plan        500 non-null    object\n",
      " 7   churn_date  34 non-null     object\n",
      "dtypes: int64(2), object(6)\n",
      "memory usage: 31.4+ KB\n"
     ]
    }
   ],
   "source": [
    "# Imprime la información general/resumida sobre el DataFrame de usuarios\n",
    "users_df.info()\n"
   ]
  },
  {
   "cell_type": "code",
   "execution_count": 352,
   "metadata": {
    "id": "1IN1L9uh0q05"
   },
   "outputs": [
    {
     "name": "stdout",
     "output_type": "stream",
     "text": [
      "     user_id first_name last_name  age  \\\n",
      "52      1052     Edmond   Hopkins   47   \n",
      "270     1270   Anjelica      Chan   70   \n",
      "211     1211       Vito   Cameron   60   \n",
      "192     1192      Korey   Goodwin   36   \n",
      "260     1260       Alia   Aguilar   36   \n",
      "\n",
      "                                                city    reg_date      plan  \\\n",
      "52          Houston-The Woodlands-Sugar Land, TX MSA  2018-03-05      surf   \n",
      "270  Philadelphia-Camden-Wilmington, PA-NJ-DE-MD MSA  2018-09-18  ultimate   \n",
      "211        New York-Newark-Jersey City, NY-NJ-PA MSA  2018-06-30  ultimate   \n",
      "192                      Buffalo-Cheektowaga, NY MSA  2018-10-02      surf   \n",
      "260           Los Angeles-Long Beach-Anaheim, CA MSA  2018-12-02      surf   \n",
      "\n",
      "    churn_date  \n",
      "52         NaN  \n",
      "270        NaN  \n",
      "211        NaN  \n",
      "192        NaN  \n",
      "260        NaN  \n"
     ]
    }
   ],
   "source": [
    "# Imprime una muestra de datos para usuarios\n",
    "print(users_df.sample(5))\n"
   ]
  },
  {
   "cell_type": "code",
   "execution_count": 353,
   "metadata": {},
   "outputs": [
    {
     "name": "stdout",
     "output_type": "stream",
     "text": [
      "['ultimate' 'surf']\n"
     ]
    }
   ],
   "source": [
    "print(users_df['plan'].unique())"
   ]
  },
  {
   "cell_type": "markdown",
   "metadata": {
    "id": "dCZoUq4f0q06"
   },
   "source": [
    "En la tabla se puede identificar a los usuarios con algunos datos relacionados a ellos, como el numero identificador de cada usuario, la fecha de contratación y la fecha en la que dejaron el servicio.\n",
    "\n",
    "Las columnas de la tabla se describen de la siguiente manera:\n",
    "- `user_id`: Numero entero unico y secuencial identificativo del cliente.\n",
    "- `first_name`: Nombre del cliente.\n",
    "- `last_name`: Apellido del cliente.\n",
    "- `age`: Edad del cliente.\n",
    "- `city`: Ciudad de residencia del cliente.\n",
    "- `reg_date`: Fecha de suscripcion del cliente en el plan de la compañia.\n",
    "- `plan`: Nombre del plan que contrato el cliente.\n",
    "- `churn_date`: La fecha en la que el usuario deja de usar el servicio, si el valor es nulo significa que sigue activo en el plan.\n",
    "\n",
    "En la tabla los valores nulos de la columna `churn_date` no sera un problema en el analisis a realizar ya que nos idica que la mayoria de los clientes se enuentran con el plan activo al momento de tomar la muestra. Respecto al tipo de datos, solo se cambiaria el tipo de las columnas `reg_date` y `churn_date` para que en lugar de `strings` sean de tipo `datetime`.\n",
    "\n",
    "[Describe lo que ves y observas en la información general y en la muestra de datos impresa para el precio de datos anterior. ¿Hay algún problema (tipos de datos no adecuados, datos ausentes, etc.) que pudieran necesitar investigación y cambios adicionales? ¿Cómo se puede arreglar?]"
   ]
  },
  {
   "cell_type": "markdown",
   "metadata": {
    "id": "BX5FQh_I0q06"
   },
   "source": [
    "### 5.1. Corregir los datos"
   ]
  },
  {
   "cell_type": "markdown",
   "metadata": {
    "id": "8OdKMwJv0q06"
   },
   "source": [
    "Para las columnas de datos `reg_date` y `churn_date` que se encuentran como tipo de datos string, se cambiara el tipo de datos a datetime para que concuerde con la información que almacena."
   ]
  },
  {
   "cell_type": "code",
   "execution_count": 354,
   "metadata": {
    "id": "yUqX-K0C0q07"
   },
   "outputs": [
    {
     "name": "stdout",
     "output_type": "stream",
     "text": [
      "<class 'pandas.core.frame.DataFrame'>\n",
      "RangeIndex: 500 entries, 0 to 499\n",
      "Data columns (total 8 columns):\n",
      " #   Column      Non-Null Count  Dtype         \n",
      "---  ------      --------------  -----         \n",
      " 0   user_id     500 non-null    int64         \n",
      " 1   first_name  500 non-null    object        \n",
      " 2   last_name   500 non-null    object        \n",
      " 3   age         500 non-null    int64         \n",
      " 4   city        500 non-null    object        \n",
      " 5   reg_date    500 non-null    datetime64[ns]\n",
      " 6   plan        500 non-null    object        \n",
      " 7   churn_date  34 non-null     datetime64[ns]\n",
      "dtypes: datetime64[ns](2), int64(2), object(4)\n",
      "memory usage: 31.4+ KB\n"
     ]
    }
   ],
   "source": [
    "#Se realiza el cambio de las columnas reg_date y churn_date a tipo de datos datetime.\n",
    "users_df['reg_date'] = pd.to_datetime(users_df['reg_date'], format='%Y-%m-%d')\n",
    "users_df['churn_date'] = pd.to_datetime(users_df['churn_date'], format='%Y-%m-%d')\n",
    "\n",
    "users_df.info()\n"
   ]
  },
  {
   "cell_type": "markdown",
   "metadata": {
    "id": "o7MeKCid0q08"
   },
   "source": [
    "## 6. Llamadas"
   ]
  },
  {
   "cell_type": "code",
   "execution_count": 355,
   "metadata": {
    "id": "6dDlnoDm0q08"
   },
   "outputs": [
    {
     "name": "stdout",
     "output_type": "stream",
     "text": [
      "<class 'pandas.core.frame.DataFrame'>\n",
      "RangeIndex: 137735 entries, 0 to 137734\n",
      "Data columns (total 4 columns):\n",
      " #   Column     Non-Null Count   Dtype  \n",
      "---  ------     --------------   -----  \n",
      " 0   id         137735 non-null  object \n",
      " 1   user_id    137735 non-null  int64  \n",
      " 2   call_date  137735 non-null  object \n",
      " 3   duration   137735 non-null  float64\n",
      "dtypes: float64(1), int64(1), object(2)\n",
      "memory usage: 4.2+ MB\n"
     ]
    }
   ],
   "source": [
    "# Imprime la información general/resumida sobre el DataFrame de las llamadas\n",
    "calls_df.info()"
   ]
  },
  {
   "cell_type": "code",
   "execution_count": 356,
   "metadata": {
    "id": "kuh1vlNB0q09"
   },
   "outputs": [
    {
     "name": "stdout",
     "output_type": "stream",
     "text": [
      "              id  user_id   call_date  duration\n",
      "122741   1434_25     1434  2018-08-06     12.69\n",
      "119495  1416_119     1416  2018-10-14      3.39\n",
      "64832    1236_96     1236  2018-09-21     11.00\n",
      "41889   1153_776     1153  2018-10-19      7.37\n",
      "30039   1113_297     1113  2018-07-21      4.19\n",
      "\n",
      "Registros duplicados:  0\n"
     ]
    }
   ],
   "source": [
    "# Imprime una muestra de datos para las llamadas\n",
    "print(calls_df.sample(5))\n",
    "print()\n",
    "print(\"Registros duplicados: \",calls_df.duplicated().sum())\n"
   ]
  },
  {
   "cell_type": "markdown",
   "metadata": {
    "id": "DOAxYJSx0q09"
   },
   "source": [
    "Esta tabla registra la duracion de las llamadas correspondientes a los usuarios de ambos planes, esto apoyara a realizar el calculo de los minutos que los usuarios usaron al mes para agregar a la cuenta final.\n",
    "\n",
    "La descripcion de las columnas son las siguientes:\n",
    "\n",
    "- `id`: Numero de registro unico para cada llamada conformado por el id del usuario y el numero de la llamada, separado por un guion bajo.\n",
    "- `user_id`: Numero de indentificación unico de los usuarios. Se puede relacionar con la tabla users.\n",
    "- `call_date`: Fecha en la que se realizo la llamada.\n",
    "- `duration`: Duración en minutos de la llamada.\n",
    "\n",
    "Con esta informacion se puede notar que no hay registros nulos o registros duplicados en la tabla. En cuanto al tipo de datos es necesario convertir la columna `call_date` de string a datetime.\n",
    "\n",
    "[Describe lo que ves y observas en la información general y en la muestra de datos impresa para el precio de datos anterior. ¿Hay algún problema (tipos de datos no adecuados, datos ausentes, etc.) que pudieran necesitar investigación y cambios adicionales? ¿Cómo se puede arreglar?]"
   ]
  },
  {
   "cell_type": "markdown",
   "metadata": {
    "id": "S7hzxmbX0q0-"
   },
   "source": [
    "### 6.1. Corregir los datos"
   ]
  },
  {
   "cell_type": "markdown",
   "metadata": {
    "id": "YxWyAjD20q0-"
   },
   "source": [
    "Con las observaciones que se realizaron de la tabla `calls` se realizara el cambio de tipo en la tabla, cambiando la columna call_date de string a datetime."
   ]
  },
  {
   "cell_type": "code",
   "execution_count": 357,
   "metadata": {
    "id": "S2r8xA4f0q0-"
   },
   "outputs": [
    {
     "name": "stdout",
     "output_type": "stream",
     "text": [
      "<class 'pandas.core.frame.DataFrame'>\n",
      "RangeIndex: 137735 entries, 0 to 137734\n",
      "Data columns (total 4 columns):\n",
      " #   Column     Non-Null Count   Dtype         \n",
      "---  ------     --------------   -----         \n",
      " 0   id         137735 non-null  object        \n",
      " 1   user_id    137735 non-null  int64         \n",
      " 2   call_date  137735 non-null  datetime64[ns]\n",
      " 3   duration   137735 non-null  float64       \n",
      "dtypes: datetime64[ns](1), float64(1), int64(1), object(1)\n",
      "memory usage: 4.2+ MB\n"
     ]
    }
   ],
   "source": [
    "#Se realiza el cambio de la columna call_date a tipo de dato datetime.\n",
    "calls_df['call_date'] = pd.to_datetime(calls_df['call_date'], format='%Y-%m-%d')\n",
    "\n",
    "calls_df.info()"
   ]
  },
  {
   "cell_type": "markdown",
   "metadata": {
    "id": "KrMgTrlG0q0_"
   },
   "source": [
    "### 6.2. Enriquecer los datos"
   ]
  },
  {
   "cell_type": "markdown",
   "metadata": {
    "id": "a9MbmEvE0q0_"
   },
   "source": [
    "Ya que las llamadas se cobran por minuto y aunque si el cliente tenga una llamada de un segundo se considera de un minuto se debe de redondear el numero flotante de la columna `duration` al entero superior.\n",
    "\n",
    "Igualmente se obtendra el mes para cada interaccion y asi poder calcular las tarifas correspondientes a las llamadas. Esta informacion se guardara en una nueva columna llamada `month`."
   ]
  },
  {
   "cell_type": "code",
   "execution_count": 358,
   "metadata": {
    "id": "iZ1avpA_0q0_"
   },
   "outputs": [
    {
     "name": "stdout",
     "output_type": "stream",
     "text": [
      "[2018]\n",
      "              id  user_id  call_date  duration  month  year\n",
      "52073   1187_266     1187 2018-10-20        11     10  2018\n",
      "6355    1030_129     1030 2018-11-29         8     11  2018\n",
      "113376  1398_217     1398 2018-10-24        16     10  2018\n",
      "68655   1246_674     1246 2018-05-07         5      5  2018\n",
      "134054  1488_151     1488 2018-11-25         4     11  2018\n"
     ]
    },
    {
     "name": "stderr",
     "output_type": "stream",
     "text": [
      "C:\\Users\\paint\\AppData\\Local\\Temp\\ipykernel_23328\\1363527577.py:2: FutureWarning: using <built-in function ceil> in Series.agg cannot aggregate and has been deprecated. Use Series.transform to keep behavior unchanged.\n",
      "  calls_df['duration'] = calls_df['duration'].agg(math.ceil)\n"
     ]
    }
   ],
   "source": [
    "#Se realiza el redondeo de la duracion de las llamadas para el entero arriba mas cercano.\n",
    "calls_df['duration'] = calls_df['duration'].agg(math.ceil)\n",
    "#Se obtiene el mes de la fecha y se guarda en una columna nueva\n",
    "calls_df['month'] = calls_df['call_date'].dt.month\n",
    "#Se obtiene el año de la fecha y se guarda en una columna nueva.\n",
    "calls_df['year'] = calls_df['call_date'].dt.year\n",
    "\n",
    "#Se puede ver que solo se tiene registros del año 2018\n",
    "print(calls_df['year'].unique())\n",
    "\n",
    "#Se imprime una muestra del nuevo data frame.\n",
    "print(calls_df.sample(5))"
   ]
  },
  {
   "cell_type": "markdown",
   "metadata": {
    "id": "mOUZSi180q0_"
   },
   "source": [
    "## 7. Mensajes"
   ]
  },
  {
   "cell_type": "code",
   "execution_count": 359,
   "metadata": {
    "id": "R-bYJpdV0q1A"
   },
   "outputs": [
    {
     "name": "stdout",
     "output_type": "stream",
     "text": [
      "<class 'pandas.core.frame.DataFrame'>\n",
      "RangeIndex: 76051 entries, 0 to 76050\n",
      "Data columns (total 3 columns):\n",
      " #   Column        Non-Null Count  Dtype \n",
      "---  ------        --------------  ----- \n",
      " 0   id            76051 non-null  object\n",
      " 1   user_id       76051 non-null  int64 \n",
      " 2   message_date  76051 non-null  object\n",
      "dtypes: int64(1), object(2)\n",
      "memory usage: 1.7+ MB\n"
     ]
    }
   ],
   "source": [
    "# Imprime la información general/resumida sobre el DataFrame de los mensajes\n",
    "messages_df.info()\n"
   ]
  },
  {
   "cell_type": "code",
   "execution_count": 360,
   "metadata": {
    "id": "mCEl2iGE0q1A"
   },
   "outputs": [
    {
     "name": "stdout",
     "output_type": "stream",
     "text": [
      "             id  user_id message_date\n",
      "69691   1454_53     1454   2018-12-24\n",
      "38056  1251_108     1251   2018-10-06\n",
      "70171   1456_54     1456   2018-12-18\n",
      "32124  1199_315     1199   2018-10-14\n",
      "53551   1340_77     1340   2018-12-16\n"
     ]
    }
   ],
   "source": [
    "# Imprime una muestra de datos para los mensajes\n",
    "print(messages_df.sample(5))\n"
   ]
  },
  {
   "cell_type": "markdown",
   "metadata": {
    "id": "04xDj7KH0q1A"
   },
   "source": [
    "Esta tabla realiza el registro de los mensajes enviados por cada usuario registrando la fecha, con el conteo de los mismos se puede verificar si se ha sobrepasado el numero de mensajes incluidos en el plan y asi sumar los extras para poder calcular la tarifa.\n",
    "\n",
    "Las columnas se decriben de la siguiente manera:\n",
    "-`id`: Identificador unico para cada mensaje, se compone del numero de usuario y numero de mensaje separado por un guion bajo.\n",
    "-`user_id`: Identificador unico de cada cliente, se puede relacionar con la tabla users.\n",
    "-`message_date`: Fecha en la que se envio el mensaje.\n",
    "\n",
    "En la tabla solo se puede notar que el tipo de la columna `message_date` debe de ser cambiado de tipo string a tipo datetime."
   ]
  },
  {
   "cell_type": "markdown",
   "metadata": {
    "id": "Sprfak900q1B"
   },
   "source": [
    "### 7.1 Corregir los datos"
   ]
  },
  {
   "cell_type": "markdown",
   "metadata": {
    "id": "eGw7d9j10q1B"
   },
   "source": [
    "Se corrige la fecha de dato string a dato datetime."
   ]
  },
  {
   "cell_type": "code",
   "execution_count": 361,
   "metadata": {
    "id": "vsllvkoa0q1B"
   },
   "outputs": [
    {
     "name": "stdout",
     "output_type": "stream",
     "text": [
      "<class 'pandas.core.frame.DataFrame'>\n",
      "RangeIndex: 76051 entries, 0 to 76050\n",
      "Data columns (total 3 columns):\n",
      " #   Column        Non-Null Count  Dtype         \n",
      "---  ------        --------------  -----         \n",
      " 0   id            76051 non-null  object        \n",
      " 1   user_id       76051 non-null  int64         \n",
      " 2   message_date  76051 non-null  datetime64[ns]\n",
      "dtypes: datetime64[ns](1), int64(1), object(1)\n",
      "memory usage: 1.7+ MB\n"
     ]
    }
   ],
   "source": [
    "messages_df['message_date'] = pd.to_datetime(messages_df['message_date'], format='%Y-%m-%d')\n",
    "\n",
    "messages_df.info()"
   ]
  },
  {
   "cell_type": "markdown",
   "metadata": {
    "id": "HvLid7iD0q1B"
   },
   "source": [
    "### 7.2. Enriquecer los datos"
   ]
  },
  {
   "cell_type": "markdown",
   "metadata": {
    "id": "8nhPFKIe0q1C"
   },
   "source": [
    "Se agregara una columna nueva para poder clasificar los mensajes al mes correspondiente al que se enviaron. la nueva columna tendra el nombre de `month`."
   ]
  },
  {
   "cell_type": "code",
   "execution_count": 362,
   "metadata": {
    "id": "zYEXZac10q1C"
   },
   "outputs": [
    {
     "name": "stdout",
     "output_type": "stream",
     "text": [
      "[2018]\n",
      "             id  user_id message_date  month  year\n",
      "15774  1103_138     1103   2018-10-16     10  2018\n",
      "69937  1454_299     1454   2018-11-19     11  2018\n",
      "12759  1083_124     1083   2018-12-10     12  2018\n",
      "7770   1060_106     1060   2018-08-16      8  2018\n",
      "49907  1328_865     1328   2018-07-19      7  2018\n"
     ]
    }
   ],
   "source": [
    "#Se obtiene el mes de la fecha y se guarda en una columna nueva\n",
    "messages_df['month'] = messages_df['message_date'].dt.month\n",
    "#Se obtiene el año de la fecha y se guarda en una columna nueva.\n",
    "messages_df['year'] = messages_df['message_date'].dt.year\n",
    "\n",
    "#Se puede ver que solo se tiene registros del año 2018\n",
    "print(messages_df['year'].unique())\n",
    "\n",
    "#Se imprime una muestra del nuevo data frame.\n",
    "print(messages_df.sample(5))"
   ]
  },
  {
   "cell_type": "markdown",
   "metadata": {
    "id": "bStkaxn40q1C"
   },
   "source": [
    "## 8. Internet"
   ]
  },
  {
   "cell_type": "code",
   "execution_count": 363,
   "metadata": {
    "id": "e-Uz5qyn0q1C"
   },
   "outputs": [
    {
     "name": "stdout",
     "output_type": "stream",
     "text": [
      "<class 'pandas.core.frame.DataFrame'>\n",
      "RangeIndex: 104825 entries, 0 to 104824\n",
      "Data columns (total 4 columns):\n",
      " #   Column        Non-Null Count   Dtype  \n",
      "---  ------        --------------   -----  \n",
      " 0   id            104825 non-null  object \n",
      " 1   user_id       104825 non-null  int64  \n",
      " 2   session_date  104825 non-null  object \n",
      " 3   mb_used       104825 non-null  float64\n",
      "dtypes: float64(1), int64(1), object(2)\n",
      "memory usage: 3.2+ MB\n"
     ]
    }
   ],
   "source": [
    "# Imprime la información general/resumida sobre el DataFrame de internet\n",
    "internet_df.info()\n"
   ]
  },
  {
   "cell_type": "code",
   "execution_count": 364,
   "metadata": {
    "id": "9r3x_XLw0q1C"
   },
   "outputs": [
    {
     "name": "stdout",
     "output_type": "stream",
     "text": [
      "             id  user_id session_date  mb_used\n",
      "92588  1432_111     1432   2018-10-29   365.80\n",
      "5939     1033_0     1033   2018-12-10     0.00\n",
      "27960  1128_114     1128   2018-12-28   108.13\n",
      "23945  1110_203     1110   2018-12-25   729.51\n",
      "16554   1074_64     1074   2018-12-23     0.00\n"
     ]
    }
   ],
   "source": [
    "# Imprime una muestra de datos para el tráfico de internet\n",
    "print(internet_df.sample(5))\n"
   ]
  },
  {
   "cell_type": "markdown",
   "metadata": {
    "id": "EzOG5ik30q1D"
   },
   "source": [
    "Con esta tabla se puede conocer los datos usados por los usuarios en sesiones de conexion durante el mes.\n",
    "\n",
    "Las columnas se describen de la siguiente manera:\n",
    "-`id`: Identificador unico de cada sesion de conexion con los datos de internet, conformado por el id de usuario y el numero de conexion separados por un guion bajo.\n",
    "-`user_id`: Identificador de cada usuario, se puede relacionar a la tabla users.\n",
    "-`session_date`: Fecha en la que se realizo la conexion a internet desde el equipo con el plan contratado.\n",
    "-`mb_used`: Numero de mb que se usaron en la conexion realizada.\n",
    "\n",
    "Lo primero que se nota es que la fecha debe de ser cambiada de tipo string a tipo datetime."
   ]
  },
  {
   "cell_type": "markdown",
   "metadata": {
    "id": "yA0tkPFg0q1D"
   },
   "source": [
    "   "
   ]
  },
  {
   "cell_type": "markdown",
   "metadata": {
    "id": "zlZMuIEK0q1D"
   },
   "source": [
    "Se realiza el cambio de tipo de la columna `session_date` de string a datetime."
   ]
  },
  {
   "cell_type": "code",
   "execution_count": 365,
   "metadata": {
    "id": "zVeanzdd0q1E"
   },
   "outputs": [
    {
     "name": "stdout",
     "output_type": "stream",
     "text": [
      "<class 'pandas.core.frame.DataFrame'>\n",
      "RangeIndex: 104825 entries, 0 to 104824\n",
      "Data columns (total 4 columns):\n",
      " #   Column        Non-Null Count   Dtype         \n",
      "---  ------        --------------   -----         \n",
      " 0   id            104825 non-null  object        \n",
      " 1   user_id       104825 non-null  int64         \n",
      " 2   session_date  104825 non-null  datetime64[ns]\n",
      " 3   mb_used       104825 non-null  float64       \n",
      "dtypes: datetime64[ns](1), float64(1), int64(1), object(1)\n",
      "memory usage: 3.2+ MB\n"
     ]
    }
   ],
   "source": [
    "internet_df['session_date'] = pd.to_datetime(internet_df['session_date'], format='%Y-%m-%d')\n",
    "\n",
    "internet_df.info()"
   ]
  },
  {
   "cell_type": "markdown",
   "metadata": {
    "id": "e8_mLF4a0q1E"
   },
   "source": [
    "### 8.2. Enriquecer los datos"
   ]
  },
  {
   "cell_type": "markdown",
   "metadata": {
    "id": "xhNdn2tE0q1E"
   },
   "source": [
    "Se obtiene el mes correspondiente a la session de conexion a internet para poder realizar los calculos correspondientes.\n",
    "La nueva columna se queda con el nombre de `month`"
   ]
  },
  {
   "cell_type": "code",
   "execution_count": 366,
   "metadata": {
    "id": "ESiYPIEK0q1E"
   },
   "outputs": [
    {
     "name": "stdout",
     "output_type": "stream",
     "text": [
      "[2018]\n",
      "             id  user_id session_date  mb_used  month  year\n",
      "46821   1209_14     1209   2018-09-19   818.23      9  2018\n",
      "89997  1415_101     1415   2018-08-16   290.70      8  2018\n",
      "34855  1156_452     1156   2018-11-24   520.01     11  2018\n",
      "87473  1405_256     1405   2018-12-13   224.86     12  2018\n",
      "52962   1239_71     1239   2018-12-30   800.02     12  2018\n"
     ]
    }
   ],
   "source": [
    "#Se obtiene el mes de la fecha y se guarda en una columna nueva\n",
    "internet_df['month'] = internet_df['session_date'].dt.month\n",
    "#Se obtiene el año de la fecha y se guarda en una columna nueva.\n",
    "internet_df['year'] = internet_df['session_date'].dt.year\n",
    "\n",
    "#Se puede ver que solo se tiene registros del año 2018\n",
    "print(internet_df['year'].unique())\n",
    "\n",
    "#Se imprime una muestra del nuevo data frame.\n",
    "print(internet_df.sample(5))"
   ]
  },
  {
   "cell_type": "markdown",
   "metadata": {
    "id": "3UA2cqIW0q1E"
   },
   "source": [
    "## 9. Estudiar las condiciones de las tarifas"
   ]
  },
  {
   "cell_type": "markdown",
   "metadata": {
    "id": "T86Sqltq0q1F"
   },
   "source": [
    "A continuacion se estudiaran las condiciones de cada plan (surf y ultimate) para poder verificar que se entiende completamente la facturaacion de ambos planes y asi poder calcular perfectamente cada interaccion de los clientes de esta poblacion."
   ]
  },
  {
   "cell_type": "code",
   "execution_count": 367,
   "metadata": {
    "id": "i409op8p0q1F"
   },
   "outputs": [
    {
     "name": "stdout",
     "output_type": "stream",
     "text": [
      "   messages_included  mb_per_month_included  minutes_included  \\\n",
      "0                 50                  15360               500   \n",
      "1               1000                  30720              3000   \n",
      "\n",
      "   usd_monthly_pay  usd_per_gb  usd_per_message  usd_per_minute plan_name  \n",
      "0               20          10             0.03            0.03      surf  \n",
      "1               70           7             0.01            0.01  ultimate  \n"
     ]
    }
   ],
   "source": [
    "# Imprime las condiciones de la tarifa y asegúrate de que te quedan claras\n",
    "print(plans_df)\n"
   ]
  },
  {
   "cell_type": "markdown",
   "metadata": {},
   "source": [
    "A continuación se pueden ver la descripción de las tarifas:\n",
    "\n",
    "**Surf**\n",
    "\n",
    "- Pago mensual: $20.\n",
    "- 500 minutos al mes, 50 SMS y 15 GB de datos.\n",
    "- Si se exceden los límites del paquete:\n",
    "    - 1 minuto: 3 centavos.\n",
    "    - 1 SMS: 3 centavos.\n",
    "    - 1 GB de datos: $10.\n",
    "\n",
    "**Ultimate**\n",
    "\n",
    "- Pago mensual: $70.\n",
    "- 3000 minutos al mes, 1000 SMS y 30 GB de datos.\n",
    "- Si se exceden los límites del paquete:\n",
    "    - 1 minuto: 1 centavo.\n",
    "    - 1 SMS: 1 centavo.\n",
    "    - 1 GB de datos: $7."
   ]
  },
  {
   "cell_type": "markdown",
   "metadata": {},
   "source": [
    "Nota: Megaline redondea los segundos a minutos y los megabytes a gigabytes. Para las llamadas, cada llamada individual se redondea: incluso si la llamada duró solo un segundo, se contará como un minuto. Para el tráfico web, las sesiones web individuales no se redondean. En vez de esto, el total del mes se redondea hacia arriba. Si alguien usa 1025 megabytes este mes, se le cobrarán 2 gigabytes."
   ]
  },
  {
   "cell_type": "markdown",
   "metadata": {
    "id": "hMR1tP5d0q1F"
   },
   "source": [
    "## 10. Agregar datos por usuario\n",
    "\n"
   ]
  },
  {
   "cell_type": "code",
   "execution_count": 368,
   "metadata": {
    "id": "A332cedB0q1G"
   },
   "outputs": [
    {
     "name": "stdout",
     "output_type": "stream",
     "text": [
      "user_id  month\n",
      "1000     12       16\n",
      "1001     8        27\n",
      "         9        49\n",
      "         10       65\n",
      "         11       64\n",
      "                  ..\n",
      "1498     12       39\n",
      "1499     9        41\n",
      "         10       53\n",
      "         11       45\n",
      "         12       65\n",
      "Name: id, Length: 2258, dtype: int64\n"
     ]
    }
   ],
   "source": [
    "# Calcula el número de llamadas hechas por cada usuario al mes. Guarda el resultado.\n",
    "number_calls_df = calls_df.groupby(by=['user_id', 'month'])['id'].count()\n",
    "print(number_calls_df)\n"
   ]
  },
  {
   "cell_type": "code",
   "execution_count": 369,
   "metadata": {
    "id": "aw2cmuql0q1G"
   },
   "outputs": [
    {
     "name": "stdout",
     "output_type": "stream",
     "text": [
      "user_id  month\n",
      "1000     12       124\n",
      "1001     8        182\n",
      "         9        315\n",
      "         10       393\n",
      "         11       426\n",
      "                 ... \n",
      "1498     12       339\n",
      "1499     9        346\n",
      "         10       385\n",
      "         11       308\n",
      "         12       496\n",
      "Name: duration, Length: 2258, dtype: int64\n"
     ]
    }
   ],
   "source": [
    "# Calcula la cantidad de minutos usados por cada usuario al mes. Guarda el resultado.\n",
    "minutes_in_call_df = calls_df.groupby(by=['user_id','month'])['duration'].sum()\n",
    "#minutes_in_call_df = pd.pivot_table(calls_df, values='duration', index='user_id', columns='month', aggfunc='sum')\n",
    "\n",
    "print(minutes_in_call_df)"
   ]
  },
  {
   "cell_type": "code",
   "execution_count": 370,
   "metadata": {
    "id": "CcQvNHn60q1G"
   },
   "outputs": [
    {
     "name": "stdout",
     "output_type": "stream",
     "text": [
      "user_id  month\n",
      "1000     12       11\n",
      "1001     8        30\n",
      "         9        44\n",
      "         10       53\n",
      "         11       36\n",
      "                  ..\n",
      "1496     9        21\n",
      "         10       18\n",
      "         11       13\n",
      "         12       11\n",
      "1497     12       50\n",
      "Name: id, Length: 1806, dtype: int64\n"
     ]
    }
   ],
   "source": [
    "# Calcula el número de mensajes enviados por cada usuario al mes. Guarda el resultado.\n",
    "number_messages_df = messages_df.groupby(by=['user_id', 'month'])['id'].count()\n",
    "#number_messages_df = pd.pivot_table(messages_df, values='id', index='user_id', columns='month', aggfunc='count')\n",
    "print(number_messages_df)"
   ]
  },
  {
   "cell_type": "code",
   "execution_count": 371,
   "metadata": {
    "id": "H1AqN2eG0q1H"
   },
   "outputs": [
    {
     "name": "stdout",
     "output_type": "stream",
     "text": [
      "user_id  month\n",
      "1000     12        1901.47\n",
      "1001     8         6919.15\n",
      "         9        13314.82\n",
      "         10       22330.49\n",
      "         11       18504.30\n",
      "                    ...   \n",
      "1498     12       23137.69\n",
      "1499     9        12984.76\n",
      "         10       19492.43\n",
      "         11       16813.83\n",
      "         12       22059.21\n",
      "Name: mb_used, Length: 2277, dtype: float64\n"
     ]
    }
   ],
   "source": [
    "# Calcula el volumen del tráfico de Internet usado por cada usuario al mes. Guarda el resultado.\n",
    "mb_used_df = internet_df.groupby(by=['user_id','month'])['mb_used'].sum()\n",
    "# mb_used_df = pd.pivot_table(internet_df, values='mb_used', index='user_id', columns='month', aggfunc='sum')\n",
    "print(mb_used_df)"
   ]
  },
  {
   "cell_type": "markdown",
   "metadata": {
    "id": "VDfYXnj80q1H"
   },
   "source": [
    "Se fusionan los datos obtenidos de cada dataframe para asi poder concentrar toda la informacion en un solo dataframe."
   ]
  },
  {
   "cell_type": "code",
   "execution_count": 372,
   "metadata": {
    "id": "FW99ykyf0q1H"
   },
   "outputs": [
    {
     "name": "stdout",
     "output_type": "stream",
     "text": [
      "      user_id  month  minutes_used  messages_used   mb_used\n",
      "0        1000     12         124.0           11.0   1901.47\n",
      "1        1001      8         182.0           30.0   6919.15\n",
      "2        1001      9         315.0           44.0  13314.82\n",
      "3        1001     10         393.0           53.0  22330.49\n",
      "4        1001     11         426.0           36.0  18504.30\n",
      "...       ...    ...           ...            ...       ...\n",
      "2288     1349     12           NaN           61.0  13039.91\n",
      "2289     1361      5           NaN            2.0   1519.69\n",
      "2290     1482     10           NaN            2.0       NaN\n",
      "2291     1108     12           NaN            NaN    233.17\n",
      "2292     1311      6           NaN            NaN   1498.83\n",
      "\n",
      "[2293 rows x 5 columns]\n"
     ]
    }
   ],
   "source": [
    "# Fusiona los datos de llamadas, minutos, mensajes e Internet con base en user_id y month\n",
    "facturable_df = pd.concat([minutes_in_call_df, number_messages_df, mb_used_df], axis=1)\n",
    "\n",
    "facturable_df.rename(columns={'duration': 'minutes_used', 'id': 'messages_used'}, inplace=True)\n",
    "\n",
    "#facturable_df.fillna(0, inplace=True)\n",
    "\n",
    "facturable_df = facturable_df.reset_index()\n",
    "print(facturable_df)\n"
   ]
  },
  {
   "cell_type": "code",
   "execution_count": 373,
   "metadata": {
    "id": "0dNOXHag0q1H"
   },
   "outputs": [
    {
     "name": "stdout",
     "output_type": "stream",
     "text": [
      "     user_id                                       city  messages_included  \\\n",
      "0       1000      Atlanta-Sandy Springs-Roswell, GA MSA               1000   \n",
      "1       1001            Seattle-Tacoma-Bellevue, WA MSA                 50   \n",
      "2       1002       Las Vegas-Henderson-Paradise, NV MSA                 50   \n",
      "3       1003                              Tulsa, OK MSA                 50   \n",
      "4       1004            Seattle-Tacoma-Bellevue, WA MSA                 50   \n",
      "..       ...                                        ...                ...   \n",
      "495     1495  New York-Newark-Jersey City, NY-NJ-PA MSA                 50   \n",
      "496     1496               New Orleans-Metairie, LA MSA                 50   \n",
      "497     1497     Los Angeles-Long Beach-Anaheim, CA MSA               1000   \n",
      "498     1498  New York-Newark-Jersey City, NY-NJ-PA MSA                 50   \n",
      "499     1499          Orlando-Kissimmee-Sanford, FL MSA                 50   \n",
      "\n",
      "     mb_per_month_included  minutes_included  usd_monthly_pay  usd_per_gb  \\\n",
      "0                    30720              3000               70           7   \n",
      "1                    15360               500               20          10   \n",
      "2                    15360               500               20          10   \n",
      "3                    15360               500               20          10   \n",
      "4                    15360               500               20          10   \n",
      "..                     ...               ...              ...         ...   \n",
      "495                  15360               500               20          10   \n",
      "496                  15360               500               20          10   \n",
      "497                  30720              3000               70           7   \n",
      "498                  15360               500               20          10   \n",
      "499                  15360               500               20          10   \n",
      "\n",
      "     usd_per_message  usd_per_minute plan_name  \n",
      "0               0.01            0.01  ultimate  \n",
      "1               0.03            0.03      surf  \n",
      "2               0.03            0.03      surf  \n",
      "3               0.03            0.03      surf  \n",
      "4               0.03            0.03      surf  \n",
      "..               ...             ...       ...  \n",
      "495             0.03            0.03      surf  \n",
      "496             0.03            0.03      surf  \n",
      "497             0.01            0.01  ultimate  \n",
      "498             0.03            0.03      surf  \n",
      "499             0.03            0.03      surf  \n",
      "\n",
      "[500 rows x 10 columns]\n"
     ]
    }
   ],
   "source": [
    "# Añade la información de la tarifa\n",
    "# Se obtiene el plan adquirido por cliente\n",
    "plan_by_user = users_df[['user_id', 'plan', 'city']]\n",
    "# Con esto se añade la facturacion del plan a cada usuario\n",
    "plan_by_user = plan_by_user.merge(plans_df, left_on='plan', right_on='plan_name')\n",
    "# Se quita la columna repetida\n",
    "plan_by_user.drop(['plan'], axis=1, inplace=True)\n",
    "# Se verifica el resultado\n",
    "print(plan_by_user)\n"
   ]
  },
  {
   "cell_type": "code",
   "execution_count": 374,
   "metadata": {},
   "outputs": [
    {
     "name": "stdout",
     "output_type": "stream",
     "text": [
      "      user_id  month  minutes_used  messages_used   mb_used  \\\n",
      "0        1000     12         124.0           11.0   1901.47   \n",
      "1        1001      8         182.0           30.0   6919.15   \n",
      "2        1001      9         315.0           44.0  13314.82   \n",
      "3        1001     10         393.0           53.0  22330.49   \n",
      "4        1001     11         426.0           36.0  18504.30   \n",
      "...       ...    ...           ...            ...       ...   \n",
      "2288     1349     12           NaN           61.0  13039.91   \n",
      "2289     1361      5           NaN            2.0   1519.69   \n",
      "2290     1482     10           NaN            2.0       NaN   \n",
      "2291     1108     12           NaN            NaN    233.17   \n",
      "2292     1311      6           NaN            NaN   1498.83   \n",
      "\n",
      "                                           city  messages_included  \\\n",
      "0         Atlanta-Sandy Springs-Roswell, GA MSA               1000   \n",
      "1               Seattle-Tacoma-Bellevue, WA MSA                 50   \n",
      "2               Seattle-Tacoma-Bellevue, WA MSA                 50   \n",
      "3               Seattle-Tacoma-Bellevue, WA MSA                 50   \n",
      "4               Seattle-Tacoma-Bellevue, WA MSA                 50   \n",
      "...                                         ...                ...   \n",
      "2288         Boston-Cambridge-Newton, MA-NH MSA                 50   \n",
      "2289                  Birmingham-Hoover, AL MSA                 50   \n",
      "2290  New York-Newark-Jersey City, NY-NJ-PA MSA               1000   \n",
      "2291                     Salt Lake City, UT MSA               1000   \n",
      "2292                      Memphis, TN-MS-AR MSA               1000   \n",
      "\n",
      "      mb_per_month_included  minutes_included  usd_monthly_pay  usd_per_gb  \\\n",
      "0                     30720              3000               70           7   \n",
      "1                     15360               500               20          10   \n",
      "2                     15360               500               20          10   \n",
      "3                     15360               500               20          10   \n",
      "4                     15360               500               20          10   \n",
      "...                     ...               ...              ...         ...   \n",
      "2288                  15360               500               20          10   \n",
      "2289                  15360               500               20          10   \n",
      "2290                  30720              3000               70           7   \n",
      "2291                  30720              3000               70           7   \n",
      "2292                  30720              3000               70           7   \n",
      "\n",
      "      usd_per_message  usd_per_minute plan_name  \n",
      "0                0.01            0.01  ultimate  \n",
      "1                0.03            0.03      surf  \n",
      "2                0.03            0.03      surf  \n",
      "3                0.03            0.03      surf  \n",
      "4                0.03            0.03      surf  \n",
      "...               ...             ...       ...  \n",
      "2288             0.03            0.03      surf  \n",
      "2289             0.03            0.03      surf  \n",
      "2290             0.01            0.01  ultimate  \n",
      "2291             0.01            0.01  ultimate  \n",
      "2292             0.01            0.01  ultimate  \n",
      "\n",
      "[2293 rows x 14 columns]\n"
     ]
    }
   ],
   "source": [
    "#facturable2_df = facturable_df.merge(plan_by_user, left_index=True)\n",
    "facturable2_df = pd.merge(facturable_df, plan_by_user, on='user_id')\n",
    "\n",
    "print(facturable2_df)"
   ]
  },
  {
   "cell_type": "markdown",
   "metadata": {
    "id": "1IwGo4wg0q1I"
   },
   "source": [
    "Ya que se tiene todo lo necesario para el calculo del cobro mensual que se realizo al ciente, se generara una funcion para aplicarse a cada una de las filas que existen en la tabla.\n",
    "\n",
    "Con esto ya se podra verificar el promedio de los cobros que se realizan correspondiente a cada plan."
   ]
  },
  {
   "cell_type": "code",
   "execution_count": 375,
   "metadata": {
    "id": "5FGCf_c60q1I"
   },
   "outputs": [],
   "source": [
    "# Calcula el ingreso mensual para cada usuario\n",
    "\n",
    "# Se define funcion para obtener el cobro mensual a los clientes\n",
    "def calculate_mensual_income(row):\n",
    "    #El cobro inicial es el precio del plan\n",
    "    payment = row['usd_monthly_pay']\n",
    "    \n",
    "    #Si sobre pasa los minutos en llamadas, se agrega al pago cada minuto extra.\n",
    "    if row['minutes_used'] > row['minutes_included']:\n",
    "        payment += (row['minutes_used'] - row['minutes_included']) * row['usd_per_minute']\n",
    "\n",
    "    #Si el numero de mensajes enviados sobre pasa los incluidos se cobra cada extra al pago.\n",
    "    if row['messages_used'] > row['messages_included']:\n",
    "        payment += (row['messages_used'] - row['messages_included']) * row['usd_per_message']\n",
    "\n",
    "    #Si los megas sobre pasa, se añade cada 1024 como un gb extra, por eso al dividir y obtener el numero entero mas arriba se puede calcular \n",
    "    #cada GB extra usado.\n",
    "    if row['mb_used'] > row['mb_per_month_included']:\n",
    "        extra_gb = math.ceil((row['mb_used'] - row['mb_per_month_included']) / 1024)\n",
    "        payment += extra_gb * row['usd_per_gb']\n",
    "\n",
    "    return payment"
   ]
  },
  {
   "cell_type": "code",
   "execution_count": 376,
   "metadata": {},
   "outputs": [],
   "source": [
    "# Se agrega la columna de 'payment' para agregar el valor pagado por el cliente al haber usado su plan.\n",
    "facturable2_df['payment'] = facturable2_df.apply(calculate_mensual_income, axis=1)\n"
   ]
  },
  {
   "cell_type": "code",
   "execution_count": 377,
   "metadata": {},
   "outputs": [
    {
     "name": "stdout",
     "output_type": "stream",
     "text": [
      "      user_id  month  payment plan_name\n",
      "1484     1329      9     70.0  ultimate\n",
      "1881     1408      8     50.0      surf\n",
      "1161     1252     10     40.0      surf\n",
      "665      1144     10    126.0  ultimate\n",
      "414      1088      7     70.0  ultimate\n"
     ]
    }
   ],
   "source": [
    "print(facturable2_df[['user_id', 'month', 'payment', 'plan_name']].sample(5))"
   ]
  },
  {
   "cell_type": "markdown",
   "metadata": {
    "id": "-jtyHzJb0q1I"
   },
   "source": [
    "## 13. Estudia el comportamiento de usuario"
   ]
  },
  {
   "cell_type": "markdown",
   "metadata": {
    "id": "AxU3Y0N70q1J"
   },
   "source": [
    "Se realizaran calculos con los datos y se realizaran descripciones de los mismos por cada categoria agregada a los planes de la compañia Megaline.\n",
    "\n",
    "Se analizan las llamdas, los mensajes y los datos de internet usados por los usuarios de cada plan, con esto se finalizara con el analisis de los ingresos correspondientes a cada plan."
   ]
  },
  {
   "cell_type": "markdown",
   "metadata": {
    "id": "vtW4CJEe0q1J"
   },
   "source": [
    "### 13.1 Llamadas"
   ]
  },
  {
   "cell_type": "code",
   "execution_count": 378,
   "metadata": {
    "id": "Jf5v5--k0q1J"
   },
   "outputs": [
    {
     "data": {
      "image/png": "[encoded data removed]",
      "text/plain": [
       "<Figure size 1200x600 with 1 Axes>"
      ]
     },
     "metadata": {},
     "output_type": "display_data"
    }
   ],
   "source": [
    "# Compara la duración promedio de llamadas por cada plan y por cada mes. Traza un gráfico de barras para visualizarla.\n",
    "average_in_call_df = pd.pivot_table(facturable2_df, values='minutes_used', index='month', columns='plan_name', aggfunc='mean')\n",
    "\n",
    "average_in_call_df.plot(kind='bar', title='Promedio del tiempo en llamada de los clientes.',\n",
    "                        xlabel='Mes', ylabel='Minutos', figsize=[12,6])\n",
    "\n",
    "plt.show()"
   ]
  },
  {
   "cell_type": "markdown",
   "metadata": {},
   "source": [
    "En la tabla se puede notar que el promedio del tiempo en llamadas no varia mucho entre cada plan, al tener mas minutos incluidos en el plan ultimate se pensaria que tendran un promedio mayor de minutos en llamdas como paso en el mes de febrero, pero incluso en la mayoria de meses los usuarios del plan surf tienen un promedio mayor del tiempo en llamadas."
   ]
  },
  {
   "cell_type": "code",
   "execution_count": 379,
   "metadata": {
    "id": "QoLqW1S_0q1J"
   },
   "outputs": [
    {
     "data": {
      "image/png": "[encoded data removed]",
      "text/plain": [
       "<Figure size 1200x600 with 1 Axes>"
      ]
     },
     "metadata": {},
     "output_type": "display_data"
    }
   ],
   "source": [
    "# Compara el número de minutos mensuales que necesitan los usuarios de cada plan. Traza un histograma.\n",
    "# Se crean df con los datos de cada plan\n",
    "users_ultimate_df = facturable2_df[facturable2_df['plan_name'] == 'ultimate']\n",
    "users_surf_df = facturable2_df[facturable2_df['plan_name'] == 'surf']\n",
    "\n",
    "#Se crea una tabla para cada tipo de plan y se presentan en un solo histograma\n",
    "users_surf_df['minutes_used'].plot(title='Minutos usados por plan', kind='hist',  \n",
    "                                   bins=50, figsize=[12, 6], alpha=0.6, legend=True)\n",
    "users_ultimate_df['minutes_used'].plot(kind='hist', alpha=0.6, bins=50, legend=True,\n",
    "                                       xlabel='Minutos usados', ylabel='Numero de clientes')\n",
    "\n",
    "plt.legend(['surf', 'ultimate'])\n",
    "plt.show()"
   ]
  },
  {
   "cell_type": "markdown",
   "metadata": {},
   "source": [
    "En la grafica se puede notar que hay una menor cantidad de usuarios del plan ultimate, y que parecen portarse de la misma manera en cuanto al tiempo en llamadas y aunque se pensaria que los del plan surf no quisieran sobrepasar los 500 minutos incluidos, muchos usuarios sobrepasan esa cantidad, y aunque los del plan ultimate tienen 3000 minutos, ninguno se acerca siquiera a la mitad de sus minutos incluidos."
   ]
  },
  {
   "cell_type": "code",
   "execution_count": 380,
   "metadata": {
    "id": "oSndbAnt0q1K"
   },
   "outputs": [
    {
     "name": "stdout",
     "output_type": "stream",
     "text": [
      "En cuanto la duracion mensual de llamadas:\n",
      " - La media de los usuarios surf es 436.51974110032364 y la varianza es igual a 52537.03666530514\n",
      " - La media de los usuarios ultimate es 434.67601683029454 y la varianza es igual a 56494.286339253566\n"
     ]
    }
   ],
   "source": [
    "# Calcula la media y la varianza de la duración mensual de llamadas.\n",
    "avg_us = users_surf_df['minutes_used'].mean()\n",
    "avg_uu = users_ultimate_df['minutes_used'].mean()\n",
    "\n",
    "var_us = np.var(users_surf_df['minutes_used'])\n",
    "var_uu = np.var(users_ultimate_df['minutes_used'])\n",
    "\n",
    "print('En cuanto la duracion mensual de llamadas:')\n",
    "print(' - La media de los usuarios surf es', avg_us, 'y la varianza es igual a', var_us)\n",
    "print(' - La media de los usuarios ultimate es', avg_uu, 'y la varianza es igual a', var_uu)\n"
   ]
  },
  {
   "cell_type": "code",
   "execution_count": 381,
   "metadata": {
    "id": "nZzoRUKc0q1K"
   },
   "outputs": [
    {
     "data": {
      "image/png": "[encoded data removed]",
      "text/plain": [
       "<Figure size 640x480 with 1 Axes>"
      ]
     },
     "metadata": {},
     "output_type": "display_data"
    }
   ],
   "source": [
    "# Traza un diagrama de caja para visualizar la distribución de la duración mensual de llamadas\n",
    "sns.boxplot(facturable2_df['minutes_used'], orient='h')\n",
    "plt.title('Minutos usados por los usuarios')\n",
    "plt.xlabel('Minutos promedio en llamada')\n",
    "plt.show()\n"
   ]
  },
  {
   "cell_type": "markdown",
   "metadata": {
    "id": "r627zBO50q1K"
   },
   "source": [
    "Con los datos que tenemos en esta muestra se puede notar que los clientes con ambos planes se comportan de una manera muy similar y en promedio los usuarios no sobre pasan el limite de minutos incluidos en el plan surf, pero aun asi hay bastantes usuarios del plan surf que prefieren sobrepasar los minutos y pagar el tiempo extra en el precio de su plan.\n",
    "\n",
    "En cuanto a los usuarios del plan ultimate no llegan a pagar extra por las llamadas en su factura ya que no llegan a los 3000 minutos usables en su plan.\n"
   ]
  },
  {
   "cell_type": "markdown",
   "metadata": {
    "id": "8idKy8Wh0q1L"
   },
   "source": [
    "### 13.2 Mensajes"
   ]
  },
  {
   "cell_type": "code",
   "execution_count": 382,
   "metadata": {
    "id": "NXLxiTit0q1L"
   },
   "outputs": [
    {
     "data": {
      "image/png": "[encoded data removed]",
      "text/plain": [
       "<Figure size 1200x600 with 1 Axes>"
      ]
     },
     "metadata": {},
     "output_type": "display_data"
    }
   ],
   "source": [
    "# Comprara el número de mensajes que tienden a enviar cada mes los usuarios de cada plan\n",
    "number_of_messages_df = pd.pivot_table(facturable2_df, values='messages_used', index='month', columns='plan_name', aggfunc='mean')\n",
    "\n",
    "number_of_messages_df.plot(kind='bar', title='Promedio de mensajes enviados por los clientes.',\n",
    "                        xlabel='Mes', ylabel='No. mensajes', figsize=[12,6])\n",
    "\n",
    "plt.show()\n"
   ]
  },
  {
   "cell_type": "markdown",
   "metadata": {},
   "source": [
    "En la tabla se puede notar que los usuarios del plan ultimate si suelen usar mas mensajes que los del plan surf, entendible ya que el plan surf incluye muhcos mas mensajes en su tarifa. Aunque aun asi, el promedio se queda cerca del limite para el plan surf en ambos tipos de clientes."
   ]
  },
  {
   "cell_type": "code",
   "execution_count": 383,
   "metadata": {
    "id": "GRI_R7xF0q1L"
   },
   "outputs": [
    {
     "data": {
      "image/png": "[encoded data removed]",
      "text/plain": [
       "<Figure size 1200x600 with 1 Axes>"
      ]
     },
     "metadata": {},
     "output_type": "display_data"
    }
   ],
   "source": [
    "# Se compara el uso de cada usuario en el numero de mensajes.\n",
    "#Se crea una tabla para cada tipo de plan y se presentan en un solo histograma\n",
    "users_surf_df['messages_used'].plot(title='Mensajes usados por plan', kind='hist',  \n",
    "                                   bins=40, figsize=[12, 6], alpha=0.6, legend=True)\n",
    "users_ultimate_df['messages_used'].plot(kind='hist', alpha=0.6, bins=40, legend=True,\n",
    "                                        xlabel='Mensajes usados', ylabel='Numero de clientes')\n",
    "\n",
    "plt.legend(['surf', 'ultimate'])\n",
    "plt.show()\n",
    "\n"
   ]
  },
  {
   "cell_type": "markdown",
   "metadata": {},
   "source": [
    "El uso de los mensajes por parte de los usuarios no parece seguir una distribucion normal, esta claro que no utilizan muchos mensajes la mayoria y por eso el promedio esta en menos de 50 para la mayoria de usuarios, pero parece una grafica exponencial negativa."
   ]
  },
  {
   "cell_type": "code",
   "execution_count": 384,
   "metadata": {
    "id": "dtFwCGAp0q1M"
   },
   "outputs": [
    {
     "name": "stdout",
     "output_type": "stream",
     "text": [
      "En cuanto al envio de mensajes mensual los usuarios:\n",
      " - La media de los usuarios surf es 40.10965630114566 y la varianza es igual a 1090.4511506183685\n",
      " - La media de los usuarios ultimate es 46.29623287671233 y la varianza es igual a 1083.3249173156314\n"
     ]
    }
   ],
   "source": [
    "# Calcula la media y la varianza del envio de mensaje mensual de los usuarios.\n",
    "avg_us = users_surf_df['messages_used'].mean()\n",
    "avg_uu = users_ultimate_df['messages_used'].mean()\n",
    "\n",
    "var_us = np.var(users_surf_df['messages_used'])\n",
    "var_uu = np.var(users_ultimate_df['messages_used'])\n",
    "\n",
    "print('En cuanto al envio de mensajes mensual los usuarios:')\n",
    "print(' - La media de los usuarios surf es', avg_us, 'y la varianza es igual a', var_us)\n",
    "print(' - La media de los usuarios ultimate es', avg_uu, 'y la varianza es igual a', var_uu)"
   ]
  },
  {
   "cell_type": "markdown",
   "metadata": {
    "id": "390SSL480q1M"
   },
   "source": [
    "Al no ser una distribucion normal se puede ver que la varianza es bastante alta para ambos tipos de planes."
   ]
  },
  {
   "cell_type": "code",
   "execution_count": 385,
   "metadata": {},
   "outputs": [
    {
     "data": {
      "image/png": "[encoded data removed]",
      "text/plain": [
       "<Figure size 640x480 with 1 Axes>"
      ]
     },
     "metadata": {},
     "output_type": "display_data"
    }
   ],
   "source": [
    "# Traza un diagrama de caja para visualizar la distribución del uso de mensajes.\n",
    "sns.boxplot(facturable2_df['messages_used'], orient='h')\n",
    "plt.title('Mensajes usados por los usuarios')\n",
    "plt.xlabel('Mensajes promedio enviados')\n",
    "plt.show()"
   ]
  },
  {
   "cell_type": "markdown",
   "metadata": {},
   "source": [
    "En cuanto al comportamiento de los usuarios en el envio de mensajes es mas dificil de predecir ya que la distribucion de los usuarios no es una normal, y se puede notar en la grafica de caja que los valores estan bastante pegados a la izquierda por lo que la mayoria de usuariosse quedan dentro del limite de 50 mensajes, pero hay casos en los que los usuarios sobrepasan ese limite incluido en su plan pagando extra por cada mensaje.\n",
    "\n",
    "En cuanto a los usuarios ultimate no estan cerca de su limite de 1000 mensajes incluidos."
   ]
  },
  {
   "cell_type": "markdown",
   "metadata": {
    "id": "42YSypXz0q1M"
   },
   "source": [
    "### 13.3 Internet"
   ]
  },
  {
   "cell_type": "code",
   "execution_count": 386,
   "metadata": {
    "id": "lSuKPtjh0q1M"
   },
   "outputs": [
    {
     "data": {
      "image/png": "[encoded data removed]",
      "text/plain": [
       "<Figure size 1200x600 with 1 Axes>"
      ]
     },
     "metadata": {},
     "output_type": "display_data"
    }
   ],
   "source": [
    "# Compara la cantidad de tráfico de Internet consumido por usuarios por plan\n",
    "internet_used_df = pd.pivot_table(facturable2_df, values='mb_used', index='month', columns='plan_name', aggfunc='mean')\n",
    "\n",
    "internet_used_df.plot(kind='bar', title='Promedio de datos usados por los clientes.',\n",
    "                        xlabel='Mes', ylabel='MB usados', figsize=[12,6])\n",
    "\n",
    "plt.show()"
   ]
  },
  {
   "cell_type": "markdown",
   "metadata": {},
   "source": [
    "Se puede ver en la tabla que los usuarios de los planes en promedio usan cerca de la misma cantidad de megas, se esperaria que los usuarios del plan ultimate usen muchos mas megas ya que tienen el doble usable que los del plan surf, pero solo se puede ver una gran diferencia en los primeros meses.\n",
    "\n",
    "Igualmente se puede ver que los usuarios del plan surf en promedio sobrepasan el limite de 15GB de sus planes, por lo que indica un costo extra."
   ]
  },
  {
   "cell_type": "code",
   "execution_count": 387,
   "metadata": {
    "id": "wnh8jYXi0q1N"
   },
   "outputs": [
    {
     "data": {
      "image/png": "[encoded data removed]",
      "text/plain": [
       "<Figure size 1200x600 with 1 Axes>"
      ]
     },
     "metadata": {},
     "output_type": "display_data"
    }
   ],
   "source": [
    "# Se compara el uso de megas de inter po cada usuario.\n",
    "#Se crea una tabla para cada tipo de plan y se presentan en un solo histograma\n",
    "users_surf_df['mb_used'].plot(title='Datos usados por plan', kind='hist',  \n",
    "                                   bins=120, figsize=[12, 6], alpha=0.6, legend=True)\n",
    "users_ultimate_df['mb_used'].plot(kind='hist', alpha=0.6, bins=120, legend=True,\n",
    "                                  xlabel='MB usados', ylabel='Numero de clientes')\n",
    "\n",
    "plt.legend(['surf', 'ultimate'])\n",
    "plt.show()"
   ]
  },
  {
   "cell_type": "markdown",
   "metadata": {},
   "source": [
    "Se puede ver una distribucion normal en la grafica ligeramente sesgada a la izquierda para los del plan surf, en el plan ultimate se puede ver una normal mas centrada.\n",
    "\n",
    "Igualmente se puede notar que muchos usuarios del plan surf sobrepasan el limite de datos y que los usuarios del plan ultimate sobrepasan el limite de 30GB de sus planes, siendo los cobros extras a este plan solamente por exceso de datos.\n"
   ]
  },
  {
   "cell_type": "code",
   "execution_count": 388,
   "metadata": {
    "id": "5VlyJ9ry0q1N"
   },
   "outputs": [
    {
     "name": "stdout",
     "output_type": "stream",
     "text": [
      "En cuanto al uso de datos de internet mensual los usuarios:\n",
      " - La media de los usuarios surf es 16717.702137355584 y la varianza es igual a 62128323.16300871\n",
      " - La media de los usuarios ultimate es 17238.642253129346 y la varianza es igual a 61239556.12006475\n"
     ]
    }
   ],
   "source": [
    "# Calcula la media y la varianza del consumo de internet mensual de los usuarios.\n",
    "avg_us = users_surf_df['mb_used'].mean()\n",
    "avg_uu = users_ultimate_df['mb_used'].mean()\n",
    "\n",
    "var_us = np.var(users_surf_df['mb_used'])\n",
    "var_uu = np.var(users_ultimate_df['mb_used'])\n",
    "\n",
    "print('En cuanto al uso de datos de internet mensual los usuarios:')\n",
    "print(' - La media de los usuarios surf es', avg_us, 'y la varianza es igual a', var_us)\n",
    "print(' - La media de los usuarios ultimate es', avg_uu, 'y la varianza es igual a', var_uu)"
   ]
  },
  {
   "cell_type": "code",
   "execution_count": 389,
   "metadata": {},
   "outputs": [
    {
     "data": {
      "image/png": "[encoded data removed]",
      "text/plain": [
       "<Figure size 640x480 with 1 Axes>"
      ]
     },
     "metadata": {},
     "output_type": "display_data"
    }
   ],
   "source": [
    "# Traza un diagrama de caja para visualizar la distribución del uso mensual de MB.\n",
    "sns.boxplot(facturable2_df['mb_used'], orient='h')\n",
    "plt.title('MB usados por los usuarios')\n",
    "plt.xlabel('MB promedio')\n",
    "plt.show()"
   ]
  },
  {
   "cell_type": "markdown",
   "metadata": {
    "id": "UN9zwuMP0q1N"
   },
   "source": [
    "En cuanto al uso de los datos por los usuarios de ambos planes no parece haber mucha diferencia en el promedio del uso de MB, si hay un promedio mayor de uso por parte de los usuarios ultimate pero no tan grande al tener el doble de MB incluidos pagando el precio del plan."
   ]
  },
  {
   "cell_type": "markdown",
   "metadata": {
    "id": "tCijq3260q1N"
   },
   "source": [
    "## 14. Ingreso"
   ]
  },
  {
   "cell_type": "code",
   "execution_count": 390,
   "metadata": {
    "id": "tz-dq_V00q1O"
   },
   "outputs": [
    {
     "data": {
      "image/png": "[encoded data removed]",
      "text/plain": [
       "<Figure size 1200x600 with 1 Axes>"
      ]
     },
     "metadata": {},
     "output_type": "display_data"
    }
   ],
   "source": [
    "# Compara la cantidad de tráfico de Internet consumido por usuarios por plan\n",
    "internet_used_df = pd.pivot_table(facturable2_df, values='payment', index='month', columns='plan_name', aggfunc='mean')\n",
    "\n",
    "internet_used_df.plot(kind='bar', title='Promedio pagos al mes por los clientes.',\n",
    "                        xlabel='Mes', ylabel='USD', figsize=[12,6])\n",
    "\n",
    "plt.show()"
   ]
  },
  {
   "cell_type": "markdown",
   "metadata": {},
   "source": [
    "En el precio de los planes se puede ver que los usuarios del plan surf pagan mucho mas de los 20 dolares que cuesta tener el plan en promedio y que los usuarios del plan ultimate no sobrepasan mucho el precio de 70 dolares del precio del plan."
   ]
  },
  {
   "cell_type": "code",
   "execution_count": 391,
   "metadata": {
    "id": "0Y1v8ZUz0q1P"
   },
   "outputs": [
    {
     "data": {
      "image/png": "[encoded data removed]",
      "text/plain": [
       "<Figure size 1200x600 with 1 Axes>"
      ]
     },
     "metadata": {},
     "output_type": "display_data"
    }
   ],
   "source": [
    "# Se compara el uso de megas de inter po cada usuario.\n",
    "#Se crea una tabla para cada tipo de plan y se presentan en un solo histograma\n",
    "users_surf_df['payment'].plot(title='Pago de los usuarios por plan', kind='hist',  \n",
    "                                   bins=50, figsize=[12, 6], alpha=0.6, legend=True)\n",
    "users_ultimate_df['payment'].plot(kind='hist', alpha=0.6, bins=50, legend=True,\n",
    "                                    xlabel='USD', ylabel='Numero de pagos mensuales',)\n",
    "\n",
    "plt.legend(['surf', 'ultimate'])\n",
    "plt.show()"
   ]
  },
  {
   "cell_type": "markdown",
   "metadata": {},
   "source": [
    "Se puede ver que la mayoria de pagos de los clientes de ambos plane esta de acuerdo a lo que contrataron de 20 dolares para los usuarios surf y de 70 para los usuarios ultimate, pero de los usarios del plan surf sobrepasan por mucho lo incluido en su plan y llegan a pagar hasta 200 - 300 dolares al mes"
   ]
  },
  {
   "cell_type": "code",
   "execution_count": 392,
   "metadata": {
    "id": "bYmwxyVh0q1P"
   },
   "outputs": [
    {
     "name": "stdout",
     "output_type": "stream",
     "text": [
      "En cuanto al pago mensual los usuarios:\n",
      " - La media de los usuarios surf es 60.706408137317226 y la varianza es igual a 3065.8848438690247\n",
      " - La media de los usuarios ultimate es 72.31388888888888 y la varianza es igual a 129.66814043209877\n"
     ]
    }
   ],
   "source": [
    "# Calcula la media y la varianza del consumo de internet mensual de los usuarios.\n",
    "avg_us = users_surf_df['payment'].mean()\n",
    "avg_uu = users_ultimate_df['payment'].mean()\n",
    "\n",
    "var_us = np.var(users_surf_df['payment'])\n",
    "var_uu = np.var(users_ultimate_df['payment'])\n",
    "\n",
    "print('En cuanto al pago mensual los usuarios:')\n",
    "print(' - La media de los usuarios surf es', avg_us, 'y la varianza es igual a', var_us)\n",
    "print(' - La media de los usuarios ultimate es', avg_uu, 'y la varianza es igual a', var_uu)"
   ]
  },
  {
   "cell_type": "markdown",
   "metadata": {
    "id": "KAFidcXZ0q1P"
   },
   "source": [
    "Para estos planes se puede ver que los usuarios del plan surf pagan alrededor de 3 veces mas en promedio de lo que el plan vale y que los usuarios del plan ultimate es muy extraño que paguen mas de los que vale este plan."
   ]
  },
  {
   "cell_type": "markdown",
   "metadata": {
    "id": "ajJ7VKeI0q1Q"
   },
   "source": [
    "## 15. Prueba las hipótesis estadísticas"
   ]
  },
  {
   "cell_type": "markdown",
   "metadata": {
    "id": "AdXAZ-yL0q1Q"
   },
   "source": [
    "### 15.1 Prueba por tipo de plan\n",
    "Se realizara la prueba de que los ingresos mensuales de ambos planes son diferentes, con respecto a la poblacion obtenida y el calculo de su pago mensual por el uso de su paquete de llamadas, mensajes y uso de datos de internet."
   ]
  },
  {
   "cell_type": "markdown",
   "metadata": {
    "id": "IQwa_hsh0q1Q"
   },
   "source": [
    "Para probar que los ingresos son significativamente diferentes se realizara la siguiente prueba:\n",
    "- Hipotesis nula: \"Los ingresos no tienen ninguna diferencia\".\n",
    "- Prueba estadistica de dos colas\n",
    "- Alpha de prueba: 0.01"
   ]
  },
  {
   "cell_type": "code",
   "execution_count": 393,
   "metadata": {
    "id": "nFoPNlPq0q1R"
   },
   "outputs": [
    {
     "name": "stdout",
     "output_type": "stream",
     "text": [
      "Valor p: 3.170390548113574e-15\n",
      "Rechazamos la hipótesis nula\n"
     ]
    }
   ],
   "source": [
    "# Prueba las hipótesis\n",
    "results = st.ttest_ind(users_surf_df['payment'], users_ultimate_df['payment'], equal_var=False)\n",
    "alpha = 0.01\n",
    "\n",
    "print('Valor p:', results.pvalue)\n",
    "\n",
    "if (results.pvalue < alpha):\n",
    "    print(\"Rechazamos la hipótesis nula\")\n",
    "else:\n",
    "    print(\"No podemos rechazar la hipótesis nula\")\n"
   ]
  },
  {
   "cell_type": "markdown",
   "metadata": {},
   "source": [
    "Se puede decir que se rechaza la hipotesis nula y si existe una diferencia en los ingresos por parte de los usuarios del plan surf y los usuarios del plan ultimate, por lo que se puede decir que ambos planes contribuyen de una manera muy diferente a los ingresos de la compañia megaline."
   ]
  },
  {
   "cell_type": "markdown",
   "metadata": {
    "id": "tCcAruM60q1R"
   },
   "source": [
    "### 15.2. Prueba por ciudad de residencia\n",
    "Se realizara la prueba de que los ingresos mensuales de la ciudad de NY - NJ son mayores con respecto al resto de la poblacion obtenida con el calculo de su pago mensual por el uso de su paquete de llamadas, mensajes y uso de datos de internet."
   ]
  },
  {
   "cell_type": "markdown",
   "metadata": {
    "id": "LsBgitqj0q1R"
   },
   "source": [
    "Para probar que los ingresos son significativamente diferentes se realizara la siguiente prueba:\n",
    "- Hipotesis nula: \"Los ingresos no tienen ninguna diferencia\".\n",
    "- Prueba estadistica de dos colas.\n",
    "- Alpha de prueba: 0.01"
   ]
  },
  {
   "cell_type": "code",
   "execution_count": 394,
   "metadata": {
    "id": "Cqcj7wrZ0q1S"
   },
   "outputs": [
    {
     "name": "stdout",
     "output_type": "stream",
     "text": [
      "Valor p: 0.0335256158853001\n",
      "No podemos rechazar la hipótesis nula\n"
     ]
    }
   ],
   "source": [
    "# Prueba las hipótesis\n",
    "# Se obtienen dataframes para poder comparar los datos.\n",
    "user_in_NY_NJ_df = facturable2_df[facturable2_df['city'].str.contains('NY-NJ', case=False)]\n",
    "user_not_in_NY_NJ_df = facturable2_df[~(facturable2_df['city'].str.contains('NY-NJ', case=False))]\n",
    "\n",
    "# Prueba las hipótesis\n",
    "results = st.ttest_ind(user_in_NY_NJ_df['payment'], user_not_in_NY_NJ_df['payment'], equal_var=False)\n",
    "alpha = 0.01\n",
    "\n",
    "print('Valor p:', results.pvalue)\n",
    "\n",
    "if (results.pvalue < alpha):# su código: compara los valores p obtenidos con el nivel de significación estadística):\n",
    "    print(\"Rechazamos la hipótesis nula\")\n",
    "else:\n",
    "    print(\"No podemos rechazar la hipótesis nula\")\n",
    "\n"
   ]
  },
  {
   "cell_type": "code",
   "execution_count": 395,
   "metadata": {},
   "outputs": [
    {
     "name": "stdout",
     "output_type": "stream",
     "text": [
      "En cuanto al pago mensual los usuarios:\n",
      " - La media de los usuarios en NY-NJ es 59.921352785145885 y la varianza es igual a 1890.5177172681156\n",
      " - La media de los usuarios en otras regiones es 65.2227713987474 y la varianza es igual a 2223.8866958162175\n"
     ]
    }
   ],
   "source": [
    "avg_us = user_in_NY_NJ_df['payment'].mean()\n",
    "avg_uu = user_not_in_NY_NJ_df['payment'].mean()\n",
    "\n",
    "var_us = np.var(user_in_NY_NJ_df['payment'])\n",
    "var_uu = np.var(user_not_in_NY_NJ_df['payment'])\n",
    "\n",
    "print('En cuanto al pago mensual los usuarios:')\n",
    "print(' - La media de los usuarios en NY-NJ es', avg_us, 'y la varianza es igual a', var_us)\n",
    "print(' - La media de los usuarios en otras regiones es', avg_uu, 'y la varianza es igual a', var_uu)"
   ]
  },
  {
   "cell_type": "markdown",
   "metadata": {},
   "source": [
    "Con esta prueba estadistica se puede rechazar la hipotesis nula ya que la probabilidad de que sean iguales es lo suficientemente alta como para decir que no importa la localidad del usuario para validar que los ingresos de esa ciudad sea diferente."
   ]
  },
  {
   "cell_type": "markdown",
   "metadata": {
    "id": "bbTR8UQO0q1T"
   },
   "source": [
    "## Conclusión general\n",
    "\n",
    "Para el cliente Megaline es importante verificar si hay una diferencia significativa en el ingreso de los planes, y se puede verificar que en la muestra para ambos planes, los usuarios no llegan a sobrepasar el limite de mensajes o minutos en llamadas del plan ultimate, lo que mas llegan a usar los clientes y por lo que mas ingresos se puede llegar a generar es por el uso de datos de internet.\n",
    "\n",
    "Esto influye mucho que un usuario del plan surf suba de sus $20 pactados a mas de $60 que es el promedio de pagos recibidos por parte de los clientes del plan surf.\n",
    "\n",
    "Las suposiciones iniciales de mi parte seria que los usuarios del plan ultimate, usarian los servicios mucho mas que los del plan surf, pero en muchos de los casos los usuarios de ambos planes usan en promedio la misma cantidad de mensajes, llamadas y en mb se separan un poco mas pero no lo esperado.\n",
    "\n",
    "Igualmenete con las representaciones visuales del uso de ambos se puede ver que muchos usuarios del plan surf sobrepasan por mucho lo que tienen incluido en los planes, en cuanto al pago mensual, no esperaba ver pagos cerca de los $580 de un usuario surf, pero al tener un costo mas elevado por pasar de las tres categorias es bastante comprensible que un usuario de este plan pueda llegar a tales cantidades y un usuario del plan ultimate no lo haga.\n",
    "\n",
    "Finalizando se puede ver que si hay una gran diferencia en ambos ingresos y se popondria meter mas publicidad al plan ultimate, ya que aunque hay usuarios del plan surf que llegan a pagar mucho mas que éste, el promedio de ingresos es mayor y lo suficientemente alejado como para decir que el plan ultimate genera mas ingresos a la compañia. "
   ]
  }
 ],
 "metadata": {
  "ExecuteTimeLog": [
   {
    "duration": 828,
    "start_time": "2021-11-16T09:21:11.304Z"
   },
   {
    "duration": 893,
    "start_time": "2021-11-16T09:21:17.728Z"
   },
   {
    "duration": 1150,
    "start_time": "2021-11-16T09:21:29.568Z"
   },
   {
    "duration": 3,
    "start_time": "2021-11-16T09:24:14.495Z"
   },
   {
    "duration": 120,
    "start_time": "2021-11-16T09:24:46.630Z"
   },
   {
    "duration": 3,
    "start_time": "2021-11-16T09:28:27.882Z"
   },
   {
    "duration": 4,
    "start_time": "2021-11-16T09:29:54.281Z"
   },
   {
    "duration": 3,
    "start_time": "2021-11-16T09:30:45.936Z"
   },
   {
    "duration": 4,
    "start_time": "2021-11-16T09:31:06.300Z"
   },
   {
    "duration": 113,
    "start_time": "2021-11-16T09:31:37.208Z"
   },
   {
    "duration": 143,
    "start_time": "2021-11-16T09:31:48.656Z"
   },
   {
    "duration": 98,
    "start_time": "2021-11-16T09:31:55.678Z"
   },
   {
    "duration": 3,
    "start_time": "2021-11-16T09:32:08.535Z"
   },
   {
    "duration": 111,
    "start_time": "2021-11-16T09:32:10.120Z"
   },
   {
    "duration": 3,
    "start_time": "2021-11-16T09:32:15.732Z"
   },
   {
    "duration": 4,
    "start_time": "2021-11-16T09:32:29.423Z"
   },
   {
    "duration": 3,
    "start_time": "2021-11-16T10:03:03.074Z"
   },
   {
    "duration": 3,
    "start_time": "2021-11-16T10:10:01.288Z"
   },
   {
    "duration": 3,
    "start_time": "2021-11-16T10:10:46.923Z"
   },
   {
    "duration": 121,
    "start_time": "2021-11-16T10:37:46.494Z"
   },
   {
    "duration": 125,
    "start_time": "2021-11-16T10:38:20.632Z"
   },
   {
    "duration": 112,
    "start_time": "2021-11-16T10:46:53.001Z"
   },
   {
    "duration": 110,
    "start_time": "2021-11-16T10:48:25.775Z"
   },
   {
    "duration": 3,
    "start_time": "2021-11-16T10:50:18.720Z"
   },
   {
    "duration": 4,
    "start_time": "2021-11-16T10:50:37.649Z"
   },
   {
    "duration": 2,
    "start_time": "2021-11-16T10:50:51.884Z"
   },
   {
    "duration": 3,
    "start_time": "2021-11-16T10:51:56.237Z"
   },
   {
    "duration": 101,
    "start_time": "2021-11-16T10:53:13.791Z"
   },
   {
    "duration": 3,
    "start_time": "2021-11-16T10:55:59.186Z"
   },
   {
    "duration": 3,
    "start_time": "2021-11-16T10:56:10.751Z"
   },
   {
    "duration": 3,
    "start_time": "2021-11-16T10:56:49.038Z"
   },
   {
    "duration": 3,
    "start_time": "2021-11-16T10:56:49.174Z"
   },
   {
    "duration": 4,
    "start_time": "2021-11-16T10:56:49.414Z"
   },
   {
    "duration": 3,
    "start_time": "2021-11-16T10:56:49.680Z"
   },
   {
    "duration": 3,
    "start_time": "2021-11-16T10:56:50.370Z"
   },
   {
    "duration": 114,
    "start_time": "2021-11-16T10:59:34.518Z"
   },
   {
    "duration": 3,
    "start_time": "2021-11-16T11:01:41.201Z"
   },
   {
    "duration": 116,
    "start_time": "2021-11-16T11:01:48.754Z"
   },
   {
    "duration": 3,
    "start_time": "2021-11-16T11:02:16.685Z"
   },
   {
    "duration": 3,
    "start_time": "2021-11-16T11:02:19.479Z"
   },
   {
    "duration": 3,
    "start_time": "2021-11-16T11:02:47.067Z"
   },
   {
    "duration": 3,
    "start_time": "2021-11-16T11:02:49.353Z"
   },
   {
    "duration": 3,
    "start_time": "2021-11-16T11:03:07.835Z"
   },
   {
    "duration": 3,
    "start_time": "2021-11-16T11:03:07.953Z"
   },
   {
    "duration": 112,
    "start_time": "2021-11-16T11:07:52.072Z"
   },
   {
    "duration": 187,
    "start_time": "2021-11-16T11:09:23.468Z"
   },
   {
    "duration": 4,
    "start_time": "2021-11-16T11:10:01.455Z"
   },
   {
    "duration": 3,
    "start_time": "2021-11-16T11:10:05.069Z"
   },
   {
    "duration": 4,
    "start_time": "2021-11-16T11:10:13.376Z"
   },
   {
    "duration": 3,
    "start_time": "2021-11-16T11:10:14.434Z"
   },
   {
    "duration": 3,
    "start_time": "2021-11-16T11:10:22.853Z"
   },
   {
    "duration": 4,
    "start_time": "2021-11-16T11:27:29.279Z"
   },
   {
    "duration": 4,
    "start_time": "2021-11-16T11:29:08.919Z"
   },
   {
    "duration": 118,
    "start_time": "2021-11-16T11:29:46.703Z"
   },
   {
    "duration": 437,
    "start_time": "2021-11-16T11:36:02.181Z"
   },
   {
    "duration": 157,
    "start_time": "2021-11-16T11:36:14.388Z"
   },
   {
    "duration": 207,
    "start_time": "2021-11-16T11:47:15.898Z"
   },
   {
    "duration": 3,
    "start_time": "2021-11-16T11:53:52.092Z"
   },
   {
    "duration": 3,
    "start_time": "2021-11-16T11:53:52.236Z"
   },
   {
    "duration": 3,
    "start_time": "2021-11-16T11:59:12.005Z"
   },
   {
    "duration": 112,
    "start_time": "2021-11-16T12:00:33.446Z"
   },
   {
    "duration": 3,
    "start_time": "2021-11-16T12:02:14.453Z"
   },
   {
    "duration": 3,
    "start_time": "2021-11-16T12:02:39.512Z"
   },
   {
    "duration": 106,
    "start_time": "2021-11-16T12:03:03.460Z"
   },
   {
    "duration": 3,
    "start_time": "2021-11-17T20:37:21.139Z"
   },
   {
    "duration": 3,
    "start_time": "2021-11-17T20:37:22.229Z"
   },
   {
    "duration": 3,
    "start_time": "2021-11-17T20:38:38.806Z"
   },
   {
    "duration": 3,
    "start_time": "2021-11-17T20:38:41.958Z"
   },
   {
    "duration": 3,
    "start_time": "2021-11-17T20:43:46.551Z"
   },
   {
    "duration": 4,
    "start_time": "2021-11-17T20:58:21.835Z"
   },
   {
    "duration": 3,
    "start_time": "2021-11-17T20:59:21.872Z"
   },
   {
    "duration": 4,
    "start_time": "2021-11-17T20:59:45.352Z"
   },
   {
    "duration": 4,
    "start_time": "2021-11-17T20:59:49.646Z"
   },
   {
    "duration": 159,
    "start_time": "2021-11-17T21:02:26.949Z"
   },
   {
    "duration": 3,
    "start_time": "2021-11-17T21:03:53.461Z"
   },
   {
    "duration": 3,
    "start_time": "2021-11-17T21:03:53.694Z"
   },
   {
    "duration": 3,
    "start_time": "2021-11-17T21:05:28.145Z"
   },
   {
    "duration": 116,
    "start_time": "2021-11-17T21:05:57.787Z"
   },
   {
    "duration": 3,
    "start_time": "2021-11-17T21:06:37.993Z"
   },
   {
    "duration": 3,
    "start_time": "2021-11-17T21:06:38.261Z"
   },
   {
    "duration": 3,
    "start_time": "2021-11-17T21:11:54.358Z"
   },
   {
    "duration": 3,
    "start_time": "2021-11-17T21:12:43.846Z"
   },
   {
    "duration": 4,
    "start_time": "2021-11-17T21:13:08.773Z"
   },
   {
    "duration": 3,
    "start_time": "2021-11-17T21:14:44.441Z"
   },
   {
    "duration": 3,
    "start_time": "2021-11-17T21:15:42.059Z"
   },
   {
    "duration": 4,
    "start_time": "2021-11-17T21:15:51.995Z"
   },
   {
    "duration": 3,
    "start_time": "2021-11-17T21:15:53.923Z"
   },
   {
    "duration": 3,
    "start_time": "2021-11-17T21:15:55.282Z"
   },
   {
    "duration": 3,
    "start_time": "2021-11-17T21:16:28.492Z"
   },
   {
    "duration": 3,
    "start_time": "2021-11-17T21:16:32.603Z"
   },
   {
    "duration": 3,
    "start_time": "2021-11-17T21:17:06.941Z"
   },
   {
    "duration": 98,
    "start_time": "2021-11-17T21:18:05.733Z"
   },
   {
    "duration": 4,
    "start_time": "2021-11-17T21:21:35.255Z"
   },
   {
    "duration": 3,
    "start_time": "2021-11-17T21:21:37.804Z"
   },
   {
    "duration": 4,
    "start_time": "2021-11-17T21:23:06.071Z"
   },
   {
    "duration": 3,
    "start_time": "2021-11-17T21:23:24.799Z"
   },
   {
    "duration": 3,
    "start_time": "2021-11-17T21:23:32.591Z"
   },
   {
    "duration": 98,
    "start_time": "2021-11-17T21:28:31.559Z"
   },
   {
    "duration": 3,
    "start_time": "2021-11-17T21:28:45.448Z"
   },
   {
    "duration": 3,
    "start_time": "2021-11-17T21:29:17.303Z"
   },
   {
    "duration": 3,
    "start_time": "2021-11-17T21:29:29.617Z"
   },
   {
    "duration": 3,
    "start_time": "2021-11-17T21:29:32.681Z"
   },
   {
    "duration": 3,
    "start_time": "2021-11-17T21:36:11.474Z"
   },
   {
    "duration": 3,
    "start_time": "2021-11-17T21:36:14.791Z"
   },
   {
    "duration": 3,
    "start_time": "2021-11-17T21:36:53.943Z"
   },
   {
    "duration": 3,
    "start_time": "2021-11-17T21:36:56.165Z"
   },
   {
    "duration": 4,
    "start_time": "2021-11-17T21:37:16.590Z"
   },
   {
    "duration": 3,
    "start_time": "2021-11-17T21:37:22.702Z"
   },
   {
    "duration": 4,
    "start_time": "2021-11-17T21:38:03.479Z"
   },
   {
    "duration": 3,
    "start_time": "2021-11-17T21:38:08.601Z"
   },
   {
    "duration": 3,
    "start_time": "2021-11-17T21:38:12.928Z"
   },
   {
    "duration": 3,
    "start_time": "2021-11-17T21:38:48.896Z"
   },
   {
    "duration": 2,
    "start_time": "2021-11-17T21:38:49.171Z"
   },
   {
    "duration": 4,
    "start_time": "2021-11-17T21:39:57.889Z"
   },
   {
    "duration": 3,
    "start_time": "2021-11-17T21:39:58.057Z"
   },
   {
    "duration": 3,
    "start_time": "2021-11-17T21:41:20.108Z"
   },
   {
    "duration": 3,
    "start_time": "2021-11-17T21:41:20.629Z"
   },
   {
    "duration": 3,
    "start_time": "2021-11-17T21:42:49.136Z"
   },
   {
    "duration": 3,
    "start_time": "2021-11-17T21:43:15.137Z"
   },
   {
    "duration": 4,
    "start_time": "2021-11-17T21:43:16.766Z"
   },
   {
    "duration": 4,
    "start_time": "2021-11-17T21:43:31.711Z"
   },
   {
    "duration": 3,
    "start_time": "2021-11-17T21:43:36.312Z"
   },
   {
    "duration": 4,
    "start_time": "2021-11-17T21:45:08.825Z"
   },
   {
    "duration": 4,
    "start_time": "2021-11-17T21:45:10.119Z"
   },
   {
    "duration": 4,
    "start_time": "2021-11-17T21:45:13.748Z"
   },
   {
    "duration": 3,
    "start_time": "2021-11-17T21:45:22.219Z"
   },
   {
    "duration": 3,
    "start_time": "2021-11-17T21:45:33.412Z"
   },
   {
    "duration": 2,
    "start_time": "2021-11-17T21:46:01.885Z"
   },
   {
    "duration": 3,
    "start_time": "2021-11-17T21:46:03.628Z"
   },
   {
    "duration": 107,
    "start_time": "2021-11-17T21:47:32.512Z"
   },
   {
    "duration": 103,
    "start_time": "2021-11-17T21:50:36.243Z"
   },
   {
    "duration": 3,
    "start_time": "2021-11-18T06:28:31.440Z"
   },
   {
    "duration": 3,
    "start_time": "2021-11-18T06:29:00.168Z"
   },
   {
    "duration": 3,
    "start_time": "2021-11-18T06:31:27.008Z"
   },
   {
    "duration": 2,
    "start_time": "2021-11-18T06:35:34.288Z"
   },
   {
    "duration": 2,
    "start_time": "2021-11-18T06:38:04.527Z"
   }
  ],
  "colab": {
   "provenance": []
  },
  "kernelspec": {
   "display_name": ".venv",
   "language": "python",
   "name": "python3"
  },
  "language_info": {
   "codemirror_mode": {
    "name": "ipython",
    "version": 3
   },
   "file_extension": ".py",
   "mimetype": "text/x-python",
   "name": "python",
   "nbconvert_exporter": "python",
   "pygments_lexer": "ipython3",
   "version": "3.13.3"
  },
  "toc": {
   "base_numbering": 1,
   "nav_menu": {},
   "number_sections": true,
   "sideBar": true,
   "skip_h1_title": false,
   "title_cell": "Table of Contents",
   "title_sidebar": "Contents",
   "toc_cell": false,
   "toc_position": {},
   "toc_section_display": true,
   "toc_window_display": true
  }
 },
 "nbformat": 4,
 "nbformat_minor": 4
}
